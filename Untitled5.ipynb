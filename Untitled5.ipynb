{
 "cells": [
  {
   "cell_type": "code",
   "execution_count": 1,
   "id": "8df70b0e-4172-43d5-a0ac-fb31f5f11406",
   "metadata": {},
   "outputs": [],
   "source": [
    "from openpyxl import load_workbook\n",
    "\n",
    "def read_excel_file(file_path):\n",
    "    # Load the workbook\n",
    "    wb = load_workbook(filename=file_path, data_only=False)  # data_only=False to get formulas too\n",
    "    ws = wb.active  # Use the active sheet\n",
    "    \n",
    "    # Iterate through the rows in the worksheet\n",
    "    rows = []\n",
    "    for row in ws.iter_rows(values_only=True):\n",
    "        # Convert each cell to string while keeping leading zeros\n",
    "        string_row = [str(cell) if cell is not None else '' for cell in row]\n",
    "        rows.append(string_row)\n",
    "    \n",
    "    return rows"
   ]
  },
  {
   "cell_type": "code",
   "execution_count": 2,
   "id": "a2c11957-d89c-4353-97a0-de537a62ec6d",
   "metadata": {},
   "outputs": [],
   "source": [
    "HEADERS = [\n",
    "    'account_number', 'account_4_plus_2', 'name', 'notes', \n",
    "    'hrm_1', 'description_hrm_1'\n",
    "]"
   ]
  },
  {
   "cell_type": "code",
   "execution_count": null,
   "id": "b39d72bf-7447-4ffc-897f-a6e0cee9b606",
   "metadata": {},
   "outputs": [],
   "source": [
    "# file_path = \"accounting/fixtures/kontenpläne/Kontenplan_SO_Bürgergemeinden_Bilanz.xlsx\"\n",
    "file_path = \"accounting/fixtures/kontenpläne/Kontenplan_SO_Bürgergemeinden_Funktionale Gliederung.xlsx\"\n",
    "# file_path = \"accounting/fixtures/kontenpläne/Kontenplan_SO_Bürgergemeinden_Erfolgsrechnung.xlsx\""
   ]
  },
  {
   "cell_type": "code",
   "execution_count": null,
   "id": "536e531f-de3a-4f46-bc22-3f5f2a42a349",
   "metadata": {},
   "outputs": [],
   "source": []
  },
  {
   "cell_type": "code",
   "execution_count": 16,
   "id": "a71a480f-d80f-49d6-994d-54283feb47cb",
   "metadata": {},
   "outputs": [
    {
     "ename": "ValueError",
     "evalue": "02/03 ('not a number')",
     "output_type": "error",
     "traceback": [
      "\u001b[1;31m---------------------------------------------------------------------------\u001b[0m",
      "\u001b[1;31mValueError\u001b[0m                                Traceback (most recent call last)",
      "Cell \u001b[1;32mIn[16], line 31\u001b[0m\n\u001b[0;32m     29\u001b[0m     accounts\u001b[38;5;241m.\u001b[39mappend(data)            \n\u001b[0;32m     30\u001b[0m \u001b[38;5;28;01melse\u001b[39;00m:\n\u001b[1;32m---> 31\u001b[0m     \u001b[38;5;28;01mraise\u001b[39;00m \u001b[38;5;167;01mValueError\u001b[39;00m(\u001b[38;5;124mf\u001b[39m\u001b[38;5;124m\"\u001b[39m\u001b[38;5;132;01m{\u001b[39;00mdata[\u001b[38;5;124m'\u001b[39m\u001b[38;5;124maccount\u001b[39m\u001b[38;5;124m'\u001b[39m]\u001b[38;5;132;01m}\u001b[39;00m\u001b[38;5;124m (\u001b[39m\u001b[38;5;124m'\u001b[39m\u001b[38;5;124mnot a number\u001b[39m\u001b[38;5;124m'\u001b[39m\u001b[38;5;124m)\u001b[39m\u001b[38;5;124m\"\u001b[39m)             \n",
      "\u001b[1;31mValueError\u001b[0m: 02/03 ('not a number')"
     ]
    }
   ],
   "source": [
    "# Print the rows to verify contents\n",
    "headers = []\n",
    "rows = read_excel_file(file_path)\n",
    "\n",
    "accounts = []\n",
    "for row in rows:\n",
    "    # Check empty\n",
    "    #if row_is_empty(row):\n",
    "    #    continue\n",
    "    \n",
    "    # Get headers (first non-empty row that contains 'Sachkonto')\n",
    "    if not headers:\n",
    "        if row[0] == 'Sachkonto':\n",
    "            headers = HEADERS  \n",
    "        continue\n",
    "\n",
    "    # Analyze\n",
    "    data = dict(zip(headers, row))\n",
    "    data['ff'] = True if 'ff' in data['account_4_plus_2'] else False\n",
    "    data['account'] = data['account_number'].strip() if data['account_number'].strip() else data['account_4_plus_2'].strip().replace('ff', '').strip()\n",
    "    data['is_category'] = True if data['account_number'] else False\n",
    "\n",
    "    if data['account']:     \n",
    "        try:\n",
    "            nr = float(data['account'])\n",
    "        except:\n",
    "            nr = -1\n",
    "        if 0 <= nr <= 99999.99:\n",
    "            accounts.append(data)            \n",
    "        else:\n",
    "            raise ValueError(f\"{data['account']} ('not a number')\")             \n"
   ]
  },
  {
   "cell_type": "code",
   "execution_count": null,
   "id": "88561cfc-62ec-47ae-9f4a-4d574e8d70ec",
   "metadata": {},
   "outputs": [],
   "source": []
  }
 ],
 "metadata": {
  "kernelspec": {
   "display_name": "Python (\\venv_django_2024)",
   "language": "python",
   "name": "myenv"
  },
  "language_info": {
   "codemirror_mode": {
    "name": "ipython",
    "version": 3
   },
   "file_extension": ".py",
   "mimetype": "text/x-python",
   "name": "python",
   "nbconvert_exporter": "python",
   "pygments_lexer": "ipython3",
   "version": "3.9.13"
  }
 },
 "nbformat": 4,
 "nbformat_minor": 5
}
