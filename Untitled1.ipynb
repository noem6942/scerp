{
 "cells": [
  {
   "cell_type": "code",
   "execution_count": 6,
   "id": "349f7737-3cdc-4109-9ff3-3a703514579d",
   "metadata": {},
   "outputs": [],
   "source": [
    "def string_to_integer(s):\n",
    "    # Map digits and space to base-11 values\n",
    "    symbol_map = {str(i): i for i in range(10)}\n",
    "    symbol_map[' '] = 10\n",
    "\n",
    "    # Convert string to a single integer in base 11\n",
    "    integer_value = 0\n",
    "    for char in s:\n",
    "        integer_value = integer_value * 11 + symbol_map[char]\n",
    "    \n",
    "    # Return both the integer and original string length for decoding\n",
    "    return integer_value, len(s)\n",
    "\n",
    "\n",
    "def integer_to_string(n, length):\n",
    "    # Reverse map for decoding\n",
    "    reverse_map = {i: str(i) for i in range(10)}\n",
    "    reverse_map[10] = ' '\n",
    "\n",
    "    # Convert integer back to base-11, decoding each \"digit\" to a character\n",
    "    chars = []\n",
    "    while n > 0:\n",
    "        chars.append(reverse_map[n % 11])\n",
    "        n //= 11\n",
    "\n",
    "    # Reverse and pad the result to match the original string length\n",
    "    decoded_string = ''.join(chars[::-1])\n",
    "    return decoded_string.zfill(length)\n",
    "\n",
    "\n"
   ]
  },
  {
   "cell_type": "code",
   "execution_count": 7,
   "id": "e95989ed-0c0c-44e6-903b-b3eabc3889fd",
   "metadata": {},
   "outputs": [
    {
     "name": "stdout",
     "output_type": "stream",
     "text": [
      "Original string: 026 300100000\n",
      "Encoded integer: 750470603432\n",
      "Decoded string: 026 300100000\n"
     ]
    }
   ],
   "source": [
    "\n",
    "# Example usage:\n",
    "original_string = \"026 300100000\"\n",
    "encoded_integer, string_length = string_to_integer(original_string)\n",
    "decoded_string = integer_to_string(encoded_integer, string_length)\n",
    "\n",
    "print(f\"Original string: {original_string}\")\n",
    "print(f\"Encoded integer: {encoded_integer}\")\n",
    "print(f\"Decoded string: {decoded_string}\")"
   ]
  },
  {
   "cell_type": "code",
   "execution_count": null,
   "id": "3a9150a7-1413-4634-b4cd-951b4528e401",
   "metadata": {},
   "outputs": [],
   "source": []
  }
 ],
 "metadata": {
  "kernelspec": {
   "display_name": "Python (\\venv_django_2024)",
   "language": "python",
   "name": "myenv"
  },
  "language_info": {
   "codemirror_mode": {
    "name": "ipython",
    "version": 3
   },
   "file_extension": ".py",
   "mimetype": "text/x-python",
   "name": "python",
   "nbconvert_exporter": "python",
   "pygments_lexer": "ipython3",
   "version": "3.9.13"
  }
 },
 "nbformat": 4,
 "nbformat_minor": 5
}
