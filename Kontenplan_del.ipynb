{
 "cells": [
  {
   "cell_type": "code",
   "execution_count": 6,
   "id": "635111bf-b010-4f43-8e0d-c748b4c153af",
   "metadata": {},
   "outputs": [
    {
     "name": "stdout",
     "output_type": "stream",
     "text": [
      "    Sachkonto Konto 4+2                                        Bezeichnung  \\\n",
      "0           3       NaN                                            Aufwand   \n",
      "1          30       NaN                                    Personalaufwand   \n",
      "2         300       NaN                          Behörden und Kommissionen   \n",
      "3        3000       NaN  Löhne, Tag- und Sitzungsgelder an Behörden und...   \n",
      "4         NaN      3000  Löhne, Tag- und Sitzungsgelder an Behörden und...   \n",
      "..        ...       ...                                                ...   \n",
      "544       900       NaN   Abschluss Erfolgsrechnung (allgemeiner Haushalt)   \n",
      "545      9000       NaN                                  Ertragsüberschuss   \n",
      "546                9000                  Ertragsüberschuss Erfolgsrechnung   \n",
      "547      9001       NaN                                  Aufwandüberschuss   \n",
      "548                9001                  Aufwandüberschuss Erfolgsrechnung   \n",
      "\n",
      "                                              Hinweise HRM1  \\\n",
      "0                                                         3   \n",
      "1    Aufwand der für das eigene Personal und die Be...   30   \n",
      "2    Durch ein Wahlorgan oder eine zuständige Amtss...  300   \n",
      "3    Löhne sowie Sitzungsgelder an Behördenmitglied...  NaN   \n",
      "4    Löhne, Entschädigungen, Tag- und Sitzungsgelde...  NaN   \n",
      "..                                                 ...  ...   \n",
      "544  Der Saldo der Erfolgsrechnung des allgemeinen ...  NaN   \n",
      "545  Abschlussbuchung, um den Ertragsüberschuss an ...  389   \n",
      "546  Abschlussbuchung, um den Ertragsüberschuss an ...  NaN   \n",
      "547  Abschlussbuchung, um den Aufwandüberschuss an ...  489   \n",
      "548  Abschlussbuchung, um den Aufwandüberschuss an ...  NaN   \n",
      "\n",
      "                 Hinweise HRM1  \n",
      "0                      Aufwand  \n",
      "1              Personalaufwand  \n",
      "2    Behörden und Kommissionen  \n",
      "3                          NaN  \n",
      "4                          NaN  \n",
      "..                         ...  \n",
      "544                        NaN  \n",
      "545         Ertragsüberschuss   \n",
      "546                        NaN  \n",
      "547          Aufwandüberschuss  \n",
      "548                        NaN  \n",
      "\n",
      "[547 rows x 6 columns]\n"
     ]
    }
   ],
   "source": [
    "import pandas as pd\n",
    "\n",
    "# Load the Excel file (or similar format)\n",
    "file_path = \"./accounting/fixtures/Kontenplan_SO_Bürgergemeinden_Erfolgsrechnung.xlsx\"\n",
    "\n",
    "# Read the Excel file, assuming the header is at row 5 (index 4 in pandas since it's 0-based)\n",
    "df = pd.read_excel(file_path, header=5)\n",
    "\n",
    "# Drop any empty rows, if there are any\n",
    "df = df.dropna(how='all')\n",
    "\n",
    "# Display the cleaned DataFrame\n",
    "print(df)\n"
   ]
  },
  {
   "cell_type": "code",
   "execution_count": 7,
   "id": "7548f751-a7b8-472c-abc0-148e3e970b5d",
   "metadata": {},
   "outputs": [
    {
     "name": "stdout",
     "output_type": "stream",
     "text": [
      "    Sachkonto Konto 4+2 my_number\n",
      "0           3       NaN     3_nan\n",
      "1          30       NaN    30_nan\n",
      "2         300       NaN   300_nan\n",
      "3        3000       NaN  3000_nan\n",
      "4         NaN      3000  nan_3000\n",
      "..        ...       ...       ...\n",
      "544       900       NaN   900_nan\n",
      "545      9000       NaN  9000_nan\n",
      "546                9000     _9000\n",
      "547      9001       NaN  9001_nan\n",
      "548                9001     _9001\n",
      "\n",
      "[547 rows x 3 columns]\n"
     ]
    }
   ],
   "source": [
    "# Create a new column that concatenates \"Sachkonto\" and \"Konto 4+2\" with an underscore\n",
    "df['my_number'] = df['Sachkonto'].astype(str) + \"_\" + df['Konto 4+2'].astype(str)\n",
    "\n",
    "# Show the result\n",
    "print(df[['Sachkonto', 'Konto 4+2', 'my_number']])\n"
   ]
  },
  {
   "cell_type": "code",
   "execution_count": 10,
   "id": "5518a05e-33ee-4548-9b02-d54764ddcdc4",
   "metadata": {},
   "outputs": [],
   "source": [
    "# Define a function to handle the concatenation logic\n",
    "account_group_code = '7'\n",
    "function = '101'\n",
    "\n",
    "def create_account_number(row):\n",
    "    if row['Sachkonto'] is not None:\n",
    "        return f\"{row['Sachkonto']} is category\"\n",
    "    else:\n",
    "        function = \n",
    "        return f\"{account_group_code}{function}{row['Sachkonto']} is category\""
   ]
  },
  {
   "cell_type": "code",
   "execution_count": 11,
   "id": "4f60684e-cde1-4c2f-850a-fadb4f3fa929",
   "metadata": {},
   "outputs": [
    {
     "name": "stdout",
     "output_type": "stream",
     "text": [
      "    Sachkonto Konto 4+2  number\n",
      "0           3      None      3_\n",
      "1          30      None     30_\n",
      "2         300      None    300_\n",
      "3        3000      None   3000_\n",
      "4        None      3000   _3000\n",
      "..        ...       ...     ...\n",
      "544       900      None    900_\n",
      "545      9000      None   9000_\n",
      "546                9000   _9000\n",
      "547      9001      None   9001_\n",
      "548                9001   _9001\n",
      "\n",
      "[547 rows x 3 columns]\n"
     ]
    }
   ],
   "source": [
    "# Assuming you've already loaded your data into a DataFrame (df)\n",
    "# df = pd.read_excel(\"your_file.xlsx\", header=4)\n",
    "\n",
    "# Replace remaining NaNs with None\n",
    "df = df.where(pd.notnull(df), None)\n",
    "\n",
    "account_group_code = '7'\n",
    "function = '101'\n",
    "\n",
    "# Fill NaN values with an empty string, then concatenate\n",
    "df['number'] = df['Sachkonto'].fillna('').astype(str) + \"_\" + df['Konto 4+2'].fillna('').astype(str)\n",
    "\n",
    "# If you want to replace \"nan_\" as None, just replace with an empty string for aesthetics\n",
    "df['number'] = df['number'].replace(\"nan_\", \"\")\n",
    "\n",
    "# Show the result\n",
    "print(df[['Sachkonto', 'Konto 4+2', 'number']])\n"
   ]
  },
  {
   "cell_type": "code",
   "execution_count": null,
   "id": "ac447094-2161-4d88-81ca-085a95fef706",
   "metadata": {},
   "outputs": [],
   "source": [
    "from openpyxl import load_workbook\n",
    "\n",
    "# Load the workbook in read-only mode\n",
    "file_path = 'your_file.xlsx'  # Replace with your file path\n",
    "wb = load_workbook(filename=file_path, read_only=True)\n",
    "ws = wb.active  # Assuming you're working with the first sheet\n",
    "\n",
    "# Row 5 is the header (adjust if needed)\n",
    "header_row_num = 5  # 0-indexed as per instruction\n",
    "start_row = header_row_num + 1  # Data starts from the row after the header\n",
    "\n",
    "# Extract the headers as column names (assuming they are in row 5)\n",
    "headers = [cell.value for cell in ws[header_row_num]]\n",
    "\n",
    "# Loop through the rows starting from the first data row (after the header)\n",
    "for row in ws.iter_rows(min_row=start_row, values_only=True):\n",
    "    # Create a dictionary mapping header keys to row values\n",
    "    row_dict = dict(zip(headers, row))\n",
    "    \n",
    "    # Access specific columns based on header names\n",
    "    sachkonto = row_dict.get('Sachkonto')  # Assuming 'Sachkonto' is a header\n",
    "    konto = row_dict.get('Konto 4+2')      # Assuming 'Konto 4+2' is a header\n",
    "    \n",
    "    # Create 'my_number' based on Sachkonto and Konto 4+2\n",
    "    if sachkonto is not None:\n",
    "        my_number = f\"{sachkonto}_{konto}\"\n",
    "    else:\n",
    "        my_number = ''\n",
    "    \n",
    "    # You can process 'my_number' here or store it in a new structure as needed\n",
    "    print(f\"Sachkonto: {sachkonto}, Konto: {konto}, My Number: {my_number}\")\n",
    "\n",
    "# Since it's read-only, no saving is needed\n"
   ]
  }
 ],
 "metadata": {
  "kernelspec": {
   "display_name": "Python (\\venv_django_2024)",
   "language": "python",
   "name": "myenv"
  },
  "language_info": {
   "codemirror_mode": {
    "name": "ipython",
    "version": 3
   },
   "file_extension": ".py",
   "mimetype": "text/x-python",
   "name": "python",
   "nbconvert_exporter": "python",
   "pygments_lexer": "ipython3",
   "version": "3.9.13"
  }
 },
 "nbformat": 4,
 "nbformat_minor": 5
}
